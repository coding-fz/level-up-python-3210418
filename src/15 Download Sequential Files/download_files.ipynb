{
 "cells": [
  {
   "cell_type": "code",
   "execution_count": 1,
   "id": "20bec48b",
   "metadata": {},
   "outputs": [],
   "source": [
    "import os\n",
    "import re\n",
    "import urllib.parse\n",
    "import urllib.request"
   ]
  },
  {
   "cell_type": "code",
   "execution_count": 2,
   "id": "0fdf10d2",
   "metadata": {},
   "outputs": [
    {
     "name": "stdout",
     "output_type": "stream",
     "text": [
      "Help on function split in module posixpath:\n",
      "\n",
      "split(p)\n",
      "    Split a pathname.  Returns tuple \"(head, tail)\" where \"tail\" is\n",
      "    everything after the final slash.  Either part may be empty.\n",
      "\n"
     ]
    }
   ],
   "source": [
    "help(os.path.split)"
   ]
  },
  {
   "cell_type": "code",
   "execution_count": 3,
   "id": "8625d8dd",
   "metadata": {},
   "outputs": [
    {
     "data": {
      "text/plain": [
       "('http://699340.youcanlearnit.net', 'image001.jpg')"
      ]
     },
     "execution_count": 3,
     "metadata": {},
     "output_type": "execute_result"
    }
   ],
   "source": [
    "os.path.split('http://699340.youcanlearnit.net/image001.jpg')"
   ]
  },
  {
   "cell_type": "code",
   "execution_count": 9,
   "id": "5bcc2818",
   "metadata": {},
   "outputs": [
    {
     "data": {
      "text/plain": [
       "'001'"
      ]
     },
     "execution_count": 9,
     "metadata": {},
     "output_type": "execute_result"
    }
   ],
   "source": [
    "re.findall(r'[0-9]+', 'image001.jpg')[-1]"
   ]
  },
  {
   "cell_type": "code",
   "execution_count": 10,
   "id": "b6f82cb7",
   "metadata": {},
   "outputs": [
    {
     "name": "stdout",
     "output_type": "stream",
     "text": [
      "Help on function sub in module re:\n",
      "\n",
      "sub(pattern, repl, string, count=0, flags=0)\n",
      "    Return the string obtained by replacing the leftmost\n",
      "    non-overlapping occurrences of the pattern in string by the\n",
      "    replacement repl.  repl can be either a string or a callable;\n",
      "    if a string, backslash escapes in it are processed.  If it is\n",
      "    a callable, it's passed the Match object and must return\n",
      "    a replacement string to be used.\n",
      "\n"
     ]
    }
   ],
   "source": [
    "help(re.sub)"
   ]
  },
  {
   "cell_type": "code",
   "execution_count": 11,
   "id": "366a65b8",
   "metadata": {},
   "outputs": [
    {
     "name": "stdout",
     "output_type": "stream",
     "text": [
      "Help on function basename in module posixpath:\n",
      "\n",
      "basename(p)\n",
      "    Returns the final component of a pathname\n",
      "\n"
     ]
    }
   ],
   "source": [
    "help(os.path.basename)"
   ]
  },
  {
   "cell_type": "code",
   "execution_count": 7,
   "id": "19362913",
   "metadata": {},
   "outputs": [
    {
     "name": "stdout",
     "output_type": "stream",
     "text": [
      "Help on function findall in module re:\n",
      "\n",
      "findall(pattern, string, flags=0)\n",
      "    Return a list of all non-overlapping matches in the string.\n",
      "    \n",
      "    If one or more capturing groups are present in the pattern, return\n",
      "    a list of groups; this will be a list of tuples if the pattern\n",
      "    has more than one group.\n",
      "    \n",
      "    Empty matches are included in the result.\n",
      "\n"
     ]
    }
   ],
   "source": [
    "help(re.findall)"
   ]
  }
 ],
 "metadata": {
  "kernelspec": {
   "display_name": "Python 3",
   "language": "python",
   "name": "python3"
  },
  "language_info": {
   "codemirror_mode": {
    "name": "ipython",
    "version": 3
   },
   "file_extension": ".py",
   "mimetype": "text/x-python",
   "name": "python",
   "nbconvert_exporter": "python",
   "pygments_lexer": "ipython3",
   "version": "3.10.12"
  }
 },
 "nbformat": 4,
 "nbformat_minor": 5
}
