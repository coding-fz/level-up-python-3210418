{
 "cells": [
  {
   "cell_type": "code",
   "execution_count": 1,
   "metadata": {},
   "outputs": [],
   "source": [
    "import sched\n",
    "import time"
   ]
  },
  {
   "cell_type": "code",
   "execution_count": 2,
   "metadata": {},
   "outputs": [
    {
     "name": "stdout",
     "output_type": "stream",
     "text": [
      "Help on built-in function time in module time:\n",
      "\n",
      "time(...)\n",
      "    time() -> floating point number\n",
      "    \n",
      "    Return the current time in seconds since the Epoch.\n",
      "    Fractions of a second may be present if the system clock provides them.\n",
      "\n"
     ]
    }
   ],
   "source": [
    "help(time.time)"
   ]
  },
  {
   "cell_type": "code",
   "execution_count": 3,
   "metadata": {},
   "outputs": [
    {
     "data": {
      "text/plain": [
       "<function time.time>"
      ]
     },
     "execution_count": 3,
     "metadata": {},
     "output_type": "execute_result"
    }
   ],
   "source": [
    "time.time"
   ]
  },
  {
   "cell_type": "code",
   "execution_count": 4,
   "metadata": {},
   "outputs": [
    {
     "name": "stdout",
     "output_type": "stream",
     "text": [
      "<built-in function time>\n"
     ]
    }
   ],
   "source": [
    "print(time.time)"
   ]
  },
  {
   "cell_type": "code",
   "execution_count": 5,
   "metadata": {},
   "outputs": [
    {
     "name": "stdout",
     "output_type": "stream",
     "text": [
      "Help on built-in function sleep in module time:\n",
      "\n",
      "sleep(...)\n",
      "    sleep(seconds)\n",
      "    \n",
      "    Delay execution for a given number of seconds.  The argument may be\n",
      "    a floating point number for subsecond precision.\n",
      "\n"
     ]
    }
   ],
   "source": [
    "help(time.sleep)"
   ]
  },
  {
   "cell_type": "code",
   "execution_count": 6,
   "metadata": {},
   "outputs": [
    {
     "name": "stdout",
     "output_type": "stream",
     "text": [
      "Help on class scheduler in module sched:\n",
      "\n",
      "class scheduler(builtins.object)\n",
      " |  scheduler(timefunc=<built-in function monotonic>, delayfunc=<built-in function sleep>)\n",
      " |  \n",
      " |  Methods defined here:\n",
      " |  \n",
      " |  __init__(self, timefunc=<built-in function monotonic>, delayfunc=<built-in function sleep>)\n",
      " |      Initialize a new instance, passing the time and delay\n",
      " |      functions\n",
      " |  \n",
      " |  cancel(self, event)\n",
      " |      Remove an event from the queue.\n",
      " |      \n",
      " |      This must be presented the ID as returned by enter().\n",
      " |      If the event is not in the queue, this raises ValueError.\n",
      " |  \n",
      " |  empty(self)\n",
      " |      Check whether the queue is empty.\n",
      " |  \n",
      " |  enter(self, delay, priority, action, argument=(), kwargs=<object object at 0x7d74b08a3980>)\n",
      " |      A variant that specifies the time as a relative time.\n",
      " |      \n",
      " |      This is actually the more commonly used interface.\n",
      " |  \n",
      " |  enterabs(self, time, priority, action, argument=(), kwargs=<object object at 0x7d74b08a3980>)\n",
      " |      Enter a new event in the queue at an absolute time.\n",
      " |      \n",
      " |      Returns an ID for the event which can be used to remove it,\n",
      " |      if necessary.\n",
      " |  \n",
      " |  run(self, blocking=True)\n",
      " |      Execute events until the queue is empty.\n",
      " |      If blocking is False executes the scheduled events due to\n",
      " |      expire soonest (if any) and then return the deadline of the\n",
      " |      next scheduled call in the scheduler.\n",
      " |      \n",
      " |      When there is a positive delay until the first event, the\n",
      " |      delay function is called and the event is left in the queue;\n",
      " |      otherwise, the event is removed from the queue and executed\n",
      " |      (its action function is called, passing it the argument).  If\n",
      " |      the delay function returns prematurely, it is simply\n",
      " |      restarted.\n",
      " |      \n",
      " |      It is legal for both the delay function and the action\n",
      " |      function to modify the queue or to raise an exception;\n",
      " |      exceptions are not caught but the scheduler's state remains\n",
      " |      well-defined so run() may be called again.\n",
      " |      \n",
      " |      A questionable hack is added to allow other threads to run:\n",
      " |      just after an event is executed, a delay of 0 is executed, to\n",
      " |      avoid monopolizing the CPU when other threads are also\n",
      " |      runnable.\n",
      " |  \n",
      " |  ----------------------------------------------------------------------\n",
      " |  Readonly properties defined here:\n",
      " |  \n",
      " |  queue\n",
      " |      An ordered list of upcoming events.\n",
      " |      \n",
      " |      Events are named tuples with fields for:\n",
      " |          time, priority, action, arguments, kwargs\n",
      " |  \n",
      " |  ----------------------------------------------------------------------\n",
      " |  Data descriptors defined here:\n",
      " |  \n",
      " |  __dict__\n",
      " |      dictionary for instance variables (if defined)\n",
      " |  \n",
      " |  __weakref__\n",
      " |      list of weak references to the object (if defined)\n",
      "\n"
     ]
    }
   ],
   "source": [
    "help(sched.scheduler)"
   ]
  },
  {
   "cell_type": "code",
   "execution_count": 2,
   "metadata": {},
   "outputs": [
    {
     "name": "stdout",
     "output_type": "stream",
     "text": [
      "Help on built-in function time in module time:\n",
      "\n",
      "time(...)\n",
      "    time() -> floating point number\n",
      "    \n",
      "    Return the current time in seconds since the Epoch.\n",
      "    Fractions of a second may be present if the system clock provides them.\n",
      "\n"
     ]
    }
   ],
   "source": [
    "help(time.time)"
   ]
  },
  {
   "cell_type": "code",
   "execution_count": 3,
   "metadata": {},
   "outputs": [
    {
     "name": "stdout",
     "output_type": "stream",
     "text": [
      "Help on built-in function asctime in module time:\n",
      "\n",
      "asctime(...)\n",
      "    asctime([tuple]) -> string\n",
      "    \n",
      "    Convert a time tuple to a string, e.g. 'Sat Jun 06 16:26:11 1998'.\n",
      "    When the time tuple is not present, current time as returned by localtime()\n",
      "    is used.\n",
      "\n"
     ]
    }
   ],
   "source": [
    "help(time.asctime)"
   ]
  },
  {
   "cell_type": "code",
   "execution_count": 4,
   "metadata": {},
   "outputs": [
    {
     "name": "stdout",
     "output_type": "stream",
     "text": [
      "Help on function enterabs in module sched:\n",
      "\n",
      "enterabs(self, time, priority, action, argument=(), kwargs=<object object at 0x7e87ed2a7950>)\n",
      "    Enter a new event in the queue at an absolute time.\n",
      "    \n",
      "    Returns an ID for the event which can be used to remove it,\n",
      "    if necessary.\n",
      "\n"
     ]
    }
   ],
   "source": [
    "help(sched.scheduler.enterabs)"
   ]
  }
 ],
 "metadata": {
  "kernelspec": {
   "display_name": "Python 3",
   "language": "python",
   "name": "python3"
  },
  "language_info": {
   "codemirror_mode": {
    "name": "ipython",
    "version": 3
   },
   "file_extension": ".py",
   "mimetype": "text/x-python",
   "name": "python",
   "nbconvert_exporter": "python",
   "pygments_lexer": "ipython3",
   "version": "3.10.12"
  }
 },
 "nbformat": 4,
 "nbformat_minor": 2
}
